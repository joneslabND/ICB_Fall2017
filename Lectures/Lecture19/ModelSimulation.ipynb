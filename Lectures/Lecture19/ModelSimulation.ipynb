{
 "cells": [
  {
   "cell_type": "markdown",
   "metadata": {},
   "source": [
    "# Simulating ordinary differential equation (ODE) models in Python\n",
    "\n",
    "As with maximum likelihood parameter estimation there is a general recipe for simulating models in `Python`.\n",
    "\n",
    "1. import packages we might need\n",
    "\n",
    "2. write a custom function in the format required by the `odeint()` function from the `scipy.integrate` package\n",
    "\n",
    "2. define parameters, initial values for state variables, and time steps for storing the model simuation\n",
    "\n",
    "3. run the simulation using the `odeint()` function from the `scipy.integrate` package\n",
    "\n",
    "The code required to accomplish these tasks for density-dependent growth are below.\n",
    "\n",
    "&nbsp;"
   ]
  },
  {
   "cell_type": "code",
   "execution_count": 3,
   "metadata": {},
   "outputs": [
    {
     "data": {
      "image/png": "[encoded data removed]",
      "text/plain": [
       "<matplotlib.figure.Figure at 0x11eebe610>"
      ]
     },
     "metadata": {},
     "output_type": "display_data"
    },
    {
     "data": {
      "text/plain": [
       "<ggplot: (285470065)>"
      ]
     },
     "execution_count": 3,
     "metadata": {},
     "output_type": "execute_result"
    }
   ],
   "source": [
    "### Load the necessary packages\n",
    "import pandas\n",
    "import scipy\n",
    "import scipy.integrate as spint\n",
    "from plotnine import *\n",
    "\n",
    "### Custom function that defines the model differential equations\n",
    "# the odeint function we will use for simulating the model requires the function be \n",
    "# defined with the arguments for state variable list, time, and parameters be provided \n",
    "# in that order. Parameters must be defined individually because they are passed as \n",
    "# a Python tuple when calling odeint\n",
    "# odeint also requires that the dy/dt's be returned as a list\n",
    "def ddSim(y,t0,r,K):\n",
    "    # \"unpack\" lists containing state variables (y)\n",
    "    N=y[0]\n",
    "\n",
    "    # calculate change in state variables with time, give parameter values\n",
    "    # and current value of state variables\n",
    "    dNdt=r*(1-N/K)*N\n",
    "    \n",
    "    # return list containing change in state variables with time\n",
    "    return [dNdt]\n",
    "\n",
    "### Define parameters, initial values for state variables, and time steps\n",
    "params=(0.3,10)\n",
    "N0=[0.01]\n",
    "times=range(0,600)\n",
    "\n",
    "### Simulate the model using odeint\n",
    "modelSim=spint.odeint(func=ddSim,y0=N0,t=times,args=params)\n",
    "\n",
    "### put model output in a dataframe for plotting purposes\n",
    "modelOutput=pandas.DataFrame({\"t\":times,\"N\":modelSim[:,0]})\n",
    "\n",
    "### plot simulation output\n",
    "ggplot(modelOutput,aes(x=\"t\",y=\"N\"))+geom_line()+theme_classic()"
   ]
  },
  {
   "cell_type": "markdown",
   "metadata": {},
   "source": [
    "This general recipe applies to any model based on ordinary differential equations (ODEs). For a model with multiple state variables and therefore multiple differential equations, the vector `y` will be longer than 1 element and the return function must return a vector of dydt's that is converted to a list. For example, a model that has a prey species that grows according to density-dependent growth and a predator of that prey would be coded as follows:"
   ]
  },
  {
   "cell_type": "code",
   "execution_count": 4,
   "metadata": {
    "collapsed": true
   },
   "outputs": [],
   "source": [
    "# function for simulating predator-prey dynamics\n",
    "def predPreySim(y,t0,r,K,consume,predDeath):\n",
    "    prey=y[0]\n",
    "    pred=y[1]\n",
    "    \n",
    "    dPrey_dt=r*(1-prey/K)*prey-consume*prey*pred\n",
    "    dPred_dt=consume*prey*pred-predDeath*pred\n",
    "    \n",
    "    return [dPrey_dt,dPred_dt]"
   ]
  },
  {
   "cell_type": "markdown",
   "metadata": {},
   "source": [
    "&nbsp;\n",
    "\n",
    "&nbsp;\n",
    "\n",
    "**Challenge**\n",
    "\n",
    "1. Code the model presented by Gatenby and Vincent. Generate three separate plots showing time series of normal and tumor cells for the three cases presented in Figure 2 of the paper.\n",
    "\n",
    "&nbsp;\n",
    "\n",
    "2. The model used in the Gatenby and Vincent paper is a classic model of competition between two species developed by Lotka & Volterra. This model is often written using only competition coefficients ($\\alpha$'s), rather than using any carrying capacities. If we wanted to use the classic Lotka-Volterra competition model for two species, how many state variables would we have? How many differential equations would we have? Can you write those equations without using parameters for carrying capacity?\n",
    "\n",
    "&nbsp;\n",
    "\n",
    "&nbsp; &nbsp; &nbsp; &nbsp; The criteria for coexistence of two species in the Lotka-Volterra competition model is:\n",
    "\n",
    "&nbsp; &nbsp; &nbsp; &nbsp; &nbsp; &nbsp; &nbsp; &nbsp; &nbsp; &nbsp;  $\\alpha_{12} < \\alpha_{11}$ and $\\alpha_{21} < \\alpha_{22}$\n",
    "\n",
    "&nbsp; &nbsp; &nbsp; &nbsp; Run three or more model simulations that demonstrate the validity of these criteria for coexistence."
   ]
  }
 ],
 "metadata": {
  "kernelspec": {
   "display_name": "Python 2",
   "language": "python",
   "name": "python2"
  },
  "language_info": {
   "codemirror_mode": {
    "name": "ipython",
    "version": 2
   },
   "file_extension": ".py",
   "mimetype": "text/x-python",
   "name": "python",
   "nbconvert_exporter": "python",
   "pygments_lexer": "ipython2",
   "version": "2.7.13"
  }
 },
 "nbformat": 4,
 "nbformat_minor": 2
}
