{
 "cells": [
  {
   "cell_type": "markdown",
   "metadata": {},
   "source": [
    "# Estimating statistical model parametes with maximum likelihood in R\n",
    "\n",
    "As was covered in lecture there is a general recipe for estimating statistical model parameters in `Python`.\n",
    "\n",
    "1. load data\n",
    "\n",
    "2. write a custome likelihood function\n",
    "\n",
    "3. estimate parameter values by minimizing the negative log likelihood\n",
    "\n",
    "The code required to accomplish these steps on a simulated data set are below.\n",
    "\n",
    "&nbsp;"
   ]
  },
  {
   "cell_type": "code",
   "execution_count": 1,
   "metadata": {},
   "outputs": [
    {
     "name": "stderr",
     "output_type": "stream",
     "text": [
      "/anaconda/lib/python2.7/site-packages/statsmodels/compat/pandas.py:56: FutureWarning: The pandas.core.datetools module is deprecated and will be removed in a future version. Please use the pandas.tseries module instead.\n",
      "  from pandas.core import datetools\n"
     ]
    },
    {
     "data": {
      "image/png": "[encoded data removed]",
      "text/plain": [
       "<matplotlib.figure.Figure at 0x11b683410>"
      ]
     },
     "metadata": {},
     "output_type": "display_data"
    },
    {
     "data": {
      "text/plain": [
       "<ggplot: (297143721)>"
      ]
     },
     "execution_count": 1,
     "metadata": {},
     "output_type": "execute_result"
    }
   ],
   "source": [
    "### Import packages\n",
    "import numpy\n",
    "import pandas\n",
    "from scipy.optimize import minimize\n",
    "from scipy.stats import norm\n",
    "from plotnine import *\n",
    "\n",
    "### Simulating data\n",
    "# creating a uniformly distributed set of values for an independent variable x\n",
    "# and values for a variable y that is linearly dependent on x\n",
    "N=25\n",
    "x=numpy.random.uniform(0,20,size=N)\n",
    "y=3*x+5\n",
    "\n",
    "# add some \"noise\" to y and put the variables in a dataframe\n",
    "y=y+numpy.random.randn(N)*3\n",
    "df=pandas.DataFrame({'x':x,'y':y})\n",
    "\n",
    "# plot our observations\n",
    "ggplot(df,aes(x='x',y='y'))+geom_point()+theme_classic()"
   ]
  },
  {
   "cell_type": "code",
   "execution_count": 2,
   "metadata": {},
   "outputs": [
    {
     "name": "stdout",
     "output_type": "stream",
     "text": [
      "Optimization terminated successfully.\n",
      "         Current function value: 65.715476\n",
      "         Iterations: 133\n",
      "         Function evaluations: 231\n",
      "[ 5.47260034  3.04434477  3.35240437]\n"
     ]
    }
   ],
   "source": [
    "### Custom likelihood function\n",
    "def nllike(p,obs):\n",
    "    B0=p[0]\n",
    "    B1=p[1]\n",
    "    sigma=p[2]\n",
    "    \n",
    "    expected=B0+B1*obs.x\n",
    "    nll=-1*norm(expected,sigma).logpdf(obs.y).sum()\n",
    "    return nll\n",
    "\n",
    "### estimate parameters by minimizing the negative log likelihood\n",
    "initialGuess=numpy.array([1,1,1])\n",
    "fit=minimize(nllike,initialGuess,method=\"Nelder-Mead\",options={'disp': True},args=df)\n",
    "\n",
    "# fit is a variable that contains an OptimizeResult object\n",
    "# attribute 'x' is a list of the most likely parameter values\n",
    "print(fit.x)"
   ]
  }
 ],
 "metadata": {
  "kernelspec": {
   "display_name": "Python 2",
   "language": "python",
   "name": "python2"
  },
  "language_info": {
   "codemirror_mode": {
    "name": "ipython",
    "version": 2
   },
   "file_extension": ".py",
   "mimetype": "text/x-python",
   "name": "python",
   "nbconvert_exporter": "python",
   "pygments_lexer": "ipython2",
   "version": "2.7.13"
  }
 },
 "nbformat": 4,
 "nbformat_minor": 2
}
