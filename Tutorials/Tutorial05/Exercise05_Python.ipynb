{
 "cells": [
  {
   "cell_type": "markdown",
   "metadata": {},
   "source": [
    "### Work with a partner to complete the tasks below and submit your results via a pull request on GitHub by the beginning of tutorial next Friday.\n",
    "\n",
    "To begin this week, one of the partners should fork the TA's Exercise 5 Github repo and provide collaborative access to the other partner. Clone the forked repo so that you have the required files. Be sure to commit regularly to show how you arrived at your solutions and demonstrate coding effort by both partners.\n",
    "\n",
    "\n",
    "## Tutorial\n",
    "\n",
    "In this short tutorial, we will work with two tabular datasets to extend a couple concepts from the Patient Data exercise from Software Carpentry.\n",
    "\n",
    "&nbsp;\n",
    "\n",
    "First, we will load a simple data table using `numpy.loadtxt()`. In the Patient Data exercise, we saw how we can use square brackets `[]` to index or subset data. We can also use results of logic tests to index our data. This can be really useful when we have a large dataset that we want to access a subset of based on characterstics of the data itself."
   ]
  },
  {
   "cell_type": "code",
   "execution_count": 4,
   "metadata": {},
   "outputs": [
    {
     "data": {
      "text/plain": [
       "array([[  1.,   5.,   9.,  13.,  17.],\n",
       "       [  2.,   6.,  10.,  14.,  18.],\n",
       "       [  3.,   7.,  11.,  15.,  19.],\n",
       "       [  4.,   8.,  12.,  16.,  20.]])"
      ]
     },
     "execution_count": 4,
     "metadata": {},
     "output_type": "execute_result"
    }
   ],
   "source": [
    "import numpy\n",
    "data=numpy.loadtxt(fname=\"test.dat\",delimiter=\" \")\n",
    "data"
   ]
  },
  {
   "cell_type": "code",
   "execution_count": 3,
   "metadata": {},
   "outputs": [
    {
     "data": {
      "text/plain": [
       "array([ True, False, False, False], dtype=bool)"
      ]
     },
     "execution_count": 3,
     "metadata": {},
     "output_type": "execute_result"
    }
   ],
   "source": [
    "# we can test for equality using double equal signs\n",
    "data[:,0]==1"
   ]
  },
  {
   "cell_type": "code",
   "execution_count": 5,
   "metadata": {},
   "outputs": [
    {
     "data": {
      "text/plain": [
       "array([False, False,  True,  True], dtype=bool)"
      ]
     },
     "execution_count": 5,
     "metadata": {},
     "output_type": "execute_result"
    }
   ],
   "source": [
    "# we can test for greater than or less than as well\n",
    "data[:,0]>2"
   ]
  },
  {
   "cell_type": "code",
   "execution_count": 6,
   "metadata": {},
   "outputs": [
    {
     "data": {
      "text/plain": [
       "array([[  3.,   7.,  11.,  15.,  19.],\n",
       "       [  4.,   8.,  12.,  16.,  20.]])"
      ]
     },
     "execution_count": 6,
     "metadata": {},
     "output_type": "execute_result"
    }
   ],
   "source": [
    "# the logical values returned by a logic test can be used just like numbers to index a data structure\n",
    "data[data[:,0]>2,:]"
   ]
  },
  {
   "cell_type": "markdown",
   "metadata": {},
   "source": [
    "Note that the data in `test.dat` are all integers. If we had a mixture of data types, this would cause problems for `numpy.loadtxt()`. Luckily, another `Python` package (`pandas`) contains a `DataFrame` structure that can handle multiple data types in the same data structure, like what we saw in `wages.csv` from our exercise last week."
   ]
  },
  {
   "cell_type": "code",
   "execution_count": 14,
   "metadata": {},
   "outputs": [
    {
     "data": {
      "text/plain": [
       "(3294, 4)"
      ]
     },
     "execution_count": 14,
     "metadata": {},
     "output_type": "execute_result"
    }
   ],
   "source": [
    "import pandas\n",
    "wages=pandas.read_csv(\"wages.csv\")\n",
    "wages.shape"
   ]
  },
  {
   "cell_type": "code",
   "execution_count": 15,
   "metadata": {},
   "outputs": [
    {
     "data": {
      "text/html": [
       "<div>\n",
       "<style>\n",
       "    .dataframe thead tr:only-child th {\n",
       "        text-align: right;\n",
       "    }\n",
       "\n",
       "    .dataframe thead th {\n",
       "        text-align: left;\n",
       "    }\n",
       "\n",
       "    .dataframe tbody tr th {\n",
       "        vertical-align: top;\n",
       "    }\n",
       "</style>\n",
       "<table border=\"1\" class=\"dataframe\">\n",
       "  <thead>\n",
       "    <tr style=\"text-align: right;\">\n",
       "      <th></th>\n",
       "      <th>gender</th>\n",
       "      <th>yearsExperience</th>\n",
       "      <th>yearsSchool</th>\n",
       "      <th>wage</th>\n",
       "    </tr>\n",
       "  </thead>\n",
       "  <tbody>\n",
       "    <tr>\n",
       "      <th>0</th>\n",
       "      <td>female</td>\n",
       "      <td>9</td>\n",
       "      <td>13</td>\n",
       "      <td>6.315296</td>\n",
       "    </tr>\n",
       "    <tr>\n",
       "      <th>1</th>\n",
       "      <td>female</td>\n",
       "      <td>12</td>\n",
       "      <td>12</td>\n",
       "      <td>5.479770</td>\n",
       "    </tr>\n",
       "    <tr>\n",
       "      <th>2</th>\n",
       "      <td>female</td>\n",
       "      <td>11</td>\n",
       "      <td>11</td>\n",
       "      <td>3.642170</td>\n",
       "    </tr>\n",
       "    <tr>\n",
       "      <th>3</th>\n",
       "      <td>female</td>\n",
       "      <td>9</td>\n",
       "      <td>14</td>\n",
       "      <td>4.593337</td>\n",
       "    </tr>\n",
       "    <tr>\n",
       "      <th>4</th>\n",
       "      <td>female</td>\n",
       "      <td>8</td>\n",
       "      <td>14</td>\n",
       "      <td>2.418157</td>\n",
       "    </tr>\n",
       "  </tbody>\n",
       "</table>\n",
       "</div>"
      ],
      "text/plain": [
       "   gender  yearsExperience  yearsSchool      wage\n",
       "0  female                9           13  6.315296\n",
       "1  female               12           12  5.479770\n",
       "2  female               11           11  3.642170\n",
       "3  female                9           14  4.593337\n",
       "4  female                8           14  2.418157"
      ]
     },
     "execution_count": 15,
     "metadata": {},
     "output_type": "execute_result"
    }
   ],
   "source": [
    "wages.head(n=5)"
   ]
  },
  {
   "cell_type": "markdown",
   "metadata": {},
   "source": [
    "We can index portions of a `pandas` DataFrame using square brackets as well. However, this works a bit differently than a `numpy` array."
   ]
  },
  {
   "cell_type": "code",
   "execution_count": 19,
   "metadata": {},
   "outputs": [
    {
     "name": "stdout",
     "output_type": "stream",
     "text": [
      "(3294,)\n"
     ]
    },
    {
     "data": {
      "text/plain": [
       "0    female\n",
       "1    female\n",
       "2    female\n",
       "3    female\n",
       "4    female\n",
       "Name: gender, dtype: object"
      ]
     },
     "execution_count": 19,
     "metadata": {},
     "output_type": "execute_result"
    }
   ],
   "source": [
    "# we can access a column from a pandas DataFrame directly using .column_name\n",
    "genders=wages.gender\n",
    "print(genders.shape)\n",
    "genders.head(n=5)"
   ]
  },
  {
   "cell_type": "code",
   "execution_count": 20,
   "metadata": {},
   "outputs": [
    {
     "name": "stdout",
     "output_type": "stream",
     "text": [
      "(5,)\n"
     ]
    },
    {
     "data": {
      "text/plain": [
       "0    female\n",
       "1    female\n",
       "2    female\n",
       "3    female\n",
       "4    female\n",
       "Name: gender, dtype: object"
      ]
     },
     "execution_count": 20,
     "metadata": {},
     "output_type": "execute_result"
    }
   ],
   "source": [
    "# we can also use square brackets to access specific rows within a column\n",
    "fiveGenders=wages.gender[0:5]\n",
    "print(fiveGenders.shape)\n",
    "fiveGenders"
   ]
  },
  {
   "cell_type": "code",
   "execution_count": 21,
   "metadata": {},
   "outputs": [
    {
     "name": "stdout",
     "output_type": "stream",
     "text": [
      "(5,)\n"
     ]
    },
    {
     "data": {
      "text/plain": [
       "0    female\n",
       "1    female\n",
       "2    female\n",
       "3    female\n",
       "4    female\n",
       "Name: gender, dtype: object"
      ]
     },
     "execution_count": 21,
     "metadata": {},
     "output_type": "execute_result"
    }
   ],
   "source": [
    "# we can also use numeric-based indexing, like with numpy arrays, but this requires the iloc function\n",
    "fiveGenders2=wages.iloc[0:5,0]\n",
    "print(fiveGenders2.shape)\n",
    "fiveGenders2"
   ]
  },
  {
   "cell_type": "markdown",
   "metadata": {},
   "source": [
    "We can use the logic-test based indexing with `pandas` too!"
   ]
  },
  {
   "cell_type": "code",
   "execution_count": 26,
   "metadata": {},
   "outputs": [
    {
     "name": "stdout",
     "output_type": "stream",
     "text": [
      "(1569, 4)\n"
     ]
    }
   ],
   "source": [
    "females=wages[wages.gender==\"female\"]\n",
    "print(females.shape)"
   ]
  },
  {
   "cell_type": "code",
   "execution_count": 27,
   "metadata": {},
   "outputs": [
    {
     "name": "stdout",
     "output_type": "stream",
     "text": [
      "['female']\n"
     ]
    }
   ],
   "source": [
    "print(females.gender.unique())"
   ]
  },
  {
   "cell_type": "markdown",
   "metadata": {},
   "source": [
    "&nbsp;\n",
    "\n",
    "&nbsp;\n",
    "\n",
    "&nbsp;\n",
    "\n",
    "&nbsp;\n",
    "\n",
    "&nbsp;\n",
    "\n",
    "&nbsp;\n",
    "\n",
    "&nbsp;\n",
    "\n",
    "&nbsp;\n",
    "\n",
    "&nbsp;\n",
    "\n",
    "&nbsp;\n",
    "\n",
    "&nbsp;\n",
    "\n",
    "&nbsp;\n",
    "\n",
    "&nbsp;\n",
    "\n",
    "&nbsp;\n",
    "\n",
    "## Challenge\n",
    "\n",
    "Work with your partner to develop a Python script that accomplishes the three tasks below. These tasks will require the file \"wages.csv\", which you should have in your local directory since you cloned the repo you forked from the TA.\n",
    "\n",
    "&nbsp;\n",
    "\n",
    "1. Write a file containing the unique gender-yearsExperience combinations contained in the file \"wages.csv\". The file you create should contain gender in the first column and yearsExperience in a second column with a space separating the two columns. The rows should be sorted first by gender and then by yearsExperience, but remember to keep the pairings in a given row intact. Don't worry about column names in the output file.\n",
    "\n",
    "2. Return the following information to the console when the script is executed: the gender, yearsExperience, and wage for the highest earner, the gender, yearsExperience, and wage for the lowest earner, and the number of females in the top ten earners in this data set. Be sure to indicate, which output is which when returning them to the console.\n",
    "\n",
    "3. Return one more piece of information to the console: the effect of graduating college (12 vs. 16 years of school) on the minimum wage for earners in this dataset. \n",
    "\n",
    "&nbsp;\n",
    "\n",
    "Devise a plan for splitting up the work and generating the required code. Do this in parrallel, not sequentially. Don't forget to check and edit each other's code. Remember to frequently `add`-`commit` locally and `push`-`pull` to GitHub to avoid conflicts. Also, remember you don't have to be in the same place at the same time to work on this collaboratively thanks to GitHub!!!\n",
    "\n",
    "**Turning in your assignment via GitHub**\n",
    "\n",
    "Once you have committed all changes to your local Git repos and pushed all of those commits to the forked repo on GitHub, you can \"turn in\" your assignment using a `pull request`. This can be done from the GitHub repo website. When viewing the forked repo, select \"Pull requests\" in the upper middle of the screen, then click the green \"New pull request\" button in the upper right. You'll then see a screen with a history of commits for you and your collaborator, select the green \"Create pull request button\". In the text box next to your user icon near the top of the page, remove whatever text is there and add \"owner's last name - collaborator's last name submission\", but obviously substitute your last names. If I and Ann Raiho worked on the project together the text would read \"jones-raiho submission\". Then click the green \"Create pull request\" button. **Only one of you will need to create a pull request.**"
   ]
  },
  {
   "cell_type": "code",
   "execution_count": null,
   "metadata": {
    "collapsed": true
   },
   "outputs": [],
   "source": []
  }
 ],
 "metadata": {
  "celltoolbar": "Raw Cell Format",
  "kernelspec": {
   "display_name": "Python 2",
   "language": "python",
   "name": "python2"
  },
  "language_info": {
   "codemirror_mode": {
    "name": "ipython",
    "version": 2
   },
   "file_extension": ".py",
   "mimetype": "text/x-python",
   "name": "python",
   "nbconvert_exporter": "python",
   "pygments_lexer": "ipython2",
   "version": "2.7.13"
  }
 },
 "nbformat": 4,
 "nbformat_minor": 2
}
